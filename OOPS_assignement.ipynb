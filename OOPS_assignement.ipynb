{
  "nbformat": 4,
  "nbformat_minor": 0,
  "metadata": {
    "colab": {
      "provenance": []
    },
    "kernelspec": {
      "name": "python3",
      "display_name": "Python 3"
    },
    "language_info": {
      "name": "python"
    }
  },
  "cells": [
    {
      "cell_type": "markdown",
      "source": [
        "# **THEORY QUESTIONS**"
      ],
      "metadata": {
        "id": "Ij3yPaVN1GUi"
      }
    },
    {
      "cell_type": "markdown",
      "source": [
        "1. **What is Object-Oriented Programming (OOP)?**\n",
        "   - OOP is a programming paradigm that uses \"objects\" to represent data and methods to manipulate that data. It emphasizes concepts such as encapsulation, inheritance, and polymorphism, which help organize software design around data rather than functions and logic."
      ],
      "metadata": {
        "id": "D0M-bXs71GRx"
      }
    },
    {
      "cell_type": "markdown",
      "source": [
        "2. **What is a class in OOP?**\n",
        "  - A class is a blueprint or template for creating objects. It defines a set of attributes and methods that will be common to all objects instantiated from the class."
      ],
      "metadata": {
        "id": "Tq0qePBk1GOh"
      }
    },
    {
      "cell_type": "markdown",
      "source": [
        "3. **What is an object in OOP?**\n",
        "   - An object is an instance of a class. It is created using the class definition and contains data (attributes) and behavior (methods) based on that class."
      ],
      "metadata": {
        "id": "cnkfgqr41GLx"
      }
    },
    {
      "cell_type": "markdown",
      "source": [
        "4. **What is the difference between abstraction and encapsulation?**\n",
        "  - Abstraction is the concept of hiding complex realities while exposing only the necessary parts of an object (e.g., through abstract classes and interfaces). Encapsulation, on the other hand, bundles data (attributes) and methods (functions) into a single unit (the object) and restricts access to some of the object's components, promoting information hiding."
      ],
      "metadata": {
        "id": "XxYa2LDu1GIx"
      }
    },
    {
      "cell_type": "markdown",
      "source": [
        "5. **What are dunder methods in Python?**\n",
        "  - Dunder methods, or \"double underscore methods,\" are special methods in Python that start and end with double underscores, such as `__init__`, `__str__`, and `__repr__`. They allow you to define how objects of a class behave with built-in functions and operators."
      ],
      "metadata": {
        "id": "-SWq_RA52NRI"
      }
    },
    {
      "cell_type": "markdown",
      "source": [
        "6. **Explain the concept of inheritance in OOP.**\n",
        "  - Inheritance is a mechanism in OOP that allows one class (the child or subclass) to inherit attributes and methods from another class (the parent or superclass). This promotes code reusability and establishes a hierarchical relationship between classes."
      ],
      "metadata": {
        "id": "kk4zNnru2NOw"
      }
    },
    {
      "cell_type": "markdown",
      "source": [
        "7. **What is polymorphism in OOP?**\n",
        "  - Polymorphism allows methods to do different things based on the object it is acting upon, even if those methods share the same name. It enables a single function or method to operate in different contexts."
      ],
      "metadata": {
        "id": "j7mUhsOy2NMA"
      }
    },
    {
      "cell_type": "markdown",
      "source": [
        "8. **How is encapsulation achieved in Python?**\n",
        "  - Encapsulation in Python is achieved by using private and protected access modifiers. Attributes prefixed with a single underscore (_) are considered protected, while those prefixed with double underscores (__) are considered private and cannot be accessed directly from outside the class."
      ],
      "metadata": {
        "id": "ZtBeGicb2NJA"
      }
    },
    {
      "cell_type": "markdown",
      "source": [
        "9. **What is a constructor in Python?**\n",
        "  - A constructor is a special method called when an object is instantiated. It initializes the attributes of the object. In Python, the constructor is usually defined as `__init__()`."
      ],
      "metadata": {
        "id": "0l09teD22ND5"
      }
    },
    {
      "cell_type": "markdown",
      "source": [
        "10. **What are class and static methods in Python?**\n",
        "    - Class methods are defined with the `@classmethod` decorator and take a class as the first argument (usually `cls`). They can access and modify class state.\n",
        "    - Static methods are defined with the `@staticmethod` decorator and do not take any special first argument. They behave like regular functions but belong to the class's namespace."
      ],
      "metadata": {
        "id": "e2RzqlCf2NBY"
      }
    },
    {
      "cell_type": "markdown",
      "source": [
        "11. **What is method overloading in Python?**\n",
        "   - Python does not natively support method overloading (defining multiple methods with the same name but different parameters). However, you can create similar functionality by using default parameters or variable-length arguments."
      ],
      "metadata": {
        "id": "VU96rCQb2M-q"
      }
    },
    {
      "cell_type": "markdown",
      "source": [
        "12. **What is method overriding in OOP?**\n",
        "   - Method overriding occurs when a subclass provides a specific implementation of a method that is already defined in its superclass. This allows the subclass to tailor or extend the functionality of the inherited method."
      ],
      "metadata": {
        "id": "FbB5amfT2M74"
      }
    },
    {
      "cell_type": "markdown",
      "source": [
        "13. **What is a property decorator in Python?**\n",
        "   - The property decorator (`@property`) allows you to define a method as a property, enabling you to use getter and setter methods while accessing it like an attribute. This provides abstraction and encapsulation."
      ],
      "metadata": {
        "id": "mPePpwwV2M44"
      }
    },
    {
      "cell_type": "markdown",
      "source": [
        "14. **Why is polymorphism important in OOP?**\n",
        "   - Polymorphism is important because it allows for flexibility and the ability to extend code easily. It enables writing more generic code, making it easier to maintain and modify."
      ],
      "metadata": {
        "id": "fb9OTSsX2M2B"
      }
    },
    {
      "cell_type": "markdown",
      "source": [
        "15. **What is an abstract class in Python?**\n",
        "   - An abstract class is a class that cannot be instantiated and is typically used to define a common interface for its subclasses. It can contain abstract methods that must be implemented by the subclasses."
      ],
      "metadata": {
        "id": "-9O1f-FF2x_B"
      }
    },
    {
      "cell_type": "markdown",
      "source": [
        "16. **What are the advantages of OOP?**\n",
        "   - Advantages include improved code reusability, scalability, ease of maintenance, better organization of code, and modeling of real-world problems."
      ],
      "metadata": {
        "id": "LLev2vY02x4a"
      }
    },
    {
      "cell_type": "markdown",
      "source": [
        "17. **What is the difference between a class variable and an instance variable?**\n",
        "    - A class variable is shared among all instances of a class and is defined within the class but outside of any instance methods.\n",
        "    - An instance variable is unique to each instance of a class and is typically defined within the constructor or instance methods."
      ],
      "metadata": {
        "id": "ZlFqHajT2x1Y"
      }
    },
    {
      "cell_type": "markdown",
      "source": [
        "18. **What is multiple inheritance in Python?**\n",
        "  - Multiple inheritance is a feature in Python that allows a class to inherit from more than one parent class. This can be useful to represent complex relationships and share functionality. However, it can introduce complexity, especially when multiple parent classes have methods or attributes with the same name, leading to ambiguity (often resolved using the method resolution order)."
      ],
      "metadata": {
        "id": "9Wu-zyth2xya"
      }
    },
    {
      "cell_type": "markdown",
      "source": [
        "19. **Explain the purpose of `__str__` and `__repr__` methods in Python.**\n",
        "   - The `__str__` method is intended to return a \"user-friendly\" string representation of an object. It is called by the `print()` function and should be easy to read.\n",
        "   - The `__repr__` method is intended to return a \"developer-friendly\" string representation of an object, providing more detail. It should ideally return a string that, when passed to `eval()`, would recreate the object. It's called by the built-in `repr()` function and is also used in interactive sessions."
      ],
      "metadata": {
        "id": "o1yR4dEj2xvf"
      }
    },
    {
      "cell_type": "markdown",
      "source": [
        "20. **What is the significance of the `super()` function in Python?**\n",
        "   The `super()` function is used to call methods from a parent class in a child class. It provides a way to access inherited methods without explicitly referring to the parent class's name, which is helpful for maintaining code in cases of multiple inheritance. It facilitates method resolution and ensures that the correct method from the method resolution order is called."
      ],
      "metadata": {
        "id": "_qaN9EO72xsY"
      }
    },
    {
      "cell_type": "markdown",
      "source": [
        "21. **What is the significance of the `__del__` method in Python?**\n",
        "  - The `__del__` method is a destructor in Python. It is called when an object is about to be destroyed, allowing the programmer to define cleanup actions, such as closing files or releasing resources. However, its invocation is not guaranteed due to Python's garbage collection, so relying on it for critical cleanup actions is not advisable."
      ],
      "metadata": {
        "id": "XmoM0Xc33Vgg"
      }
    },
    {
      "cell_type": "markdown",
      "source": [
        "22. **What is the difference between `@staticmethod` and `@classmethod` in Python?**\n",
        "   - A `@staticmethod` is a method that does not take a reference to the instance or the class as the first argument. It behaves like a regular function but resides within a class’s namespace, meaning it can be called on the class or instance without accessing class or instance data.\n",
        "   - A `@classmethod`, however, takes a reference to the class (usually named `cls`) as the first argument and can access class variables and methods. It can be used to create factory methods that return an instance of the class."
      ],
      "metadata": {
        "id": "J-gYoG693V0I"
      }
    },
    {
      "cell_type": "markdown",
      "source": [
        "23. **How does polymorphism work in Python with inheritance?**\n",
        "  - Polymorphism in Python with inheritance allows a single method to operate differently based on the derived object's type. For example, if different subclasses implement their own version of the same method, an object of a subclass can be passed where a parent class object is expected, and the correct method for that subclass will be executed, allowing for dynamic method resolution."
      ],
      "metadata": {
        "id": "sHdFAky73Vof"
      }
    },
    {
      "cell_type": "markdown",
      "source": [
        "24. **What is method chaining in Python OOP?**\n",
        "   Method chaining is a technique where multiple method calls are made on the same object in a single statement. Each method returns the object itself (i.e., `self`), allowing sequential method calls. This can improve code readability and conciseness."
      ],
      "metadata": {
        "id": "24stL2SE3VmA"
      }
    },
    {
      "cell_type": "markdown",
      "source": [
        "25. 8. **What is the purpose of the `__call__` method in Python?**\n",
        " -  The `__call__` method allows an instance of a class to be called as if it were a function. By defining `__call__`, you can make an object callable and enable its usage in contexts where a function is expected, enhancing the flexibility of your class design."
      ],
      "metadata": {
        "id": "safkoBoU3s2_"
      }
    },
    {
      "cell_type": "markdown",
      "source": [
        "# **PRACTICAL QUESTIONS.**"
      ],
      "metadata": {
        "id": "KRj9b4c84TKf"
      }
    },
    {
      "cell_type": "code",
      "execution_count": null,
      "metadata": {
        "colab": {
          "base_uri": "https://localhost:8080/"
        },
        "id": "BgF45tv_1CwR",
        "outputId": "990e550e-e88a-4140-adb6-3d069b58c0cb"
      },
      "outputs": [
        {
          "output_type": "stream",
          "name": "stdout",
          "text": [
            "Bark!\n"
          ]
        }
      ],
      "source": [
        "#Ques.1 Create a parent class Animal with a method speak() that prints a generic message. Create a child class Dog that overrides the speak() method to print \"Bark!\".\n",
        "\n",
        "class Animal:\n",
        "    def speak(self):\n",
        "        print(\"Animal speaks\")\n",
        "\n",
        "class Dog(Animal):\n",
        "    def speak(self):\n",
        "        print(\"Bark!\")\n",
        "\n",
        "dog = Dog()\n",
        "dog.speak()  # Output: Bark!"
      ]
    },
    {
      "cell_type": "code",
      "source": [
        "#Ques.2 Write a program to create an abstract class Shape with a method area(). Derive classes Circle and Rectangle from it and implement the area() method in both.\n",
        "\n",
        "from abc import ABC, abstractmethod\n",
        "import math\n",
        "\n",
        "class Shape(ABC):\n",
        "    @abstractmethod\n",
        "    def area(self):\n",
        "        pass\n",
        "\n",
        "class Circle(Shape):\n",
        "    def __init__(self, radius):\n",
        "        self.radius = radius\n",
        "\n",
        "    def area(self):\n",
        "        return math.pi * (self.radius ** 2)\n",
        "\n",
        "class Rectangle(Shape):\n",
        "    def __init__(self, width, height):\n",
        "        self.width = width\n",
        "        self.height = height\n",
        "\n",
        "    def area(self):\n",
        "        return self.width * self.height\n",
        "\n",
        "circle = Circle(5)\n",
        "rectangle = Rectangle(4, 6)\n",
        "print(circle.area())  # Output: 78.53981633974483\n",
        "print(rectangle.area())  # Output: 24"
      ],
      "metadata": {
        "colab": {
          "base_uri": "https://localhost:8080/"
        },
        "id": "fdHKQJva4ZmA",
        "outputId": "87ad1efe-cb86-4d4b-f551-ce8dac561e70"
      },
      "execution_count": null,
      "outputs": [
        {
          "output_type": "stream",
          "name": "stdout",
          "text": [
            "78.53981633974483\n",
            "24\n"
          ]
        }
      ]
    },
    {
      "cell_type": "code",
      "source": [
        "#Ques.3 Implement a multi-level inheritance scenario where a class Vehicle has an attribute type. Derive a class Car and further derive a class ElectricCar that adds a battery attribute.\n",
        "\n",
        "class Vehicle:\n",
        "    def __init__(self, vehicle_type):\n",
        "        self.vehicle_type = vehicle_type\n",
        "\n",
        "class Car(Vehicle):\n",
        "    def __init__(self, vehicle_type, model):\n",
        "        super().__init__(vehicle_type)\n",
        "        self.model = model\n",
        "\n",
        "class ElectricCar(Car):\n",
        "    def __init__(self, vehicle_type, model, battery):\n",
        "        super().__init__(vehicle_type, model)\n",
        "        self.battery = battery\n",
        "\n",
        "electric_car = ElectricCar(\"Car\", \"Tesla Model 3\", \"75 kWh\")\n",
        "print(electric_car.vehicle_type, electric_car.model, electric_car.battery)  # Output: Car Tesla Model 3 75 kWh"
      ],
      "metadata": {
        "colab": {
          "base_uri": "https://localhost:8080/"
        },
        "id": "3QTieSB45r3f",
        "outputId": "11de5d46-97ee-41c3-a477-695696c78ba4"
      },
      "execution_count": null,
      "outputs": [
        {
          "output_type": "stream",
          "name": "stdout",
          "text": [
            "Car Tesla Model 3 75 kWh\n"
          ]
        }
      ]
    },
    {
      "cell_type": "code",
      "source": [
        "#Ques.4. Implement a multi-level inheritance scenario where a class Vehicle has an attribute type. Derive a class Car and further derive a class ElectricCar that adds a battery attribute.\n",
        "\n",
        "class Vehicle:\n",
        "    def __init__(self, vehicle_type):\n",
        "        self.vehicle_type = vehicle_type\n",
        "\n",
        "class Car(Vehicle):\n",
        "    def __init__(self, vehicle_type, model):\n",
        "        super().__init__(vehicle_type)\n",
        "        self.model = model\n",
        "\n",
        "class ElectricCar(Car):\n",
        "    def __init__(self, vehicle_type, model, battery):\n",
        "        super().__init__(vehicle_type, model)\n",
        "        self.battery = battery\n",
        "\n",
        "electric_car = ElectricCar(\"Car\", \"Tesla Model 3\", \"75 kWh\")\n",
        "print(electric_car.vehicle_type, electric_car.model, electric_car.battery)  # Output: Car Tesla Model 3 75 kWh"
      ],
      "metadata": {
        "id": "Iw8J5ztq62ge"
      },
      "execution_count": null,
      "outputs": []
    },
    {
      "cell_type": "code",
      "source": [
        "#Ques.5. Write a program to demonstrate encapsulation by creating a class BankAccount with private attributes balance and methods to deposit, withdraw, and check balance.\n",
        "#Ans.5. Demonstrating encapsulation with a `BankAccount` class:\n",
        "\n",
        "class BankAccount:\n",
        "    def __init__(self):\n",
        "        self.__balance = 0  # Private attribute\n",
        "\n",
        "    def deposit(self, amount):\n",
        "        if amount > 0:\n",
        "            self.__balance += amount\n",
        "\n",
        "    def withdraw(self, amount):\n",
        "        if 0 < amount <= self.__balance:\n",
        "            self.__balance -= amount\n",
        "\n",
        "    def check_balance(self):\n",
        "        return self.__balance\n",
        "\n",
        "account = BankAccount()\n",
        "account.deposit(100)\n",
        "print(account.check_balance())  # Output: 100\n",
        "account.withdraw(30)\n",
        "print(account.check_balance())  # Output: 70"
      ],
      "metadata": {
        "colab": {
          "base_uri": "https://localhost:8080/"
        },
        "id": "xmXFWUPh66cl",
        "outputId": "8bd4a23f-8524-4f74-8e4c-5eba4517f405"
      },
      "execution_count": null,
      "outputs": [
        {
          "output_type": "stream",
          "name": "stdout",
          "text": [
            "100\n",
            "70\n"
          ]
        }
      ]
    },
    {
      "cell_type": "code",
      "source": [
        "#Ques.6. Demonstrate runtime polymorphism using a method play() in a base class Instrument. Derive classes Guitar and Piano that implement their own version of play().\n",
        "#Ans.6. 6. Demonstrating runtime polymorphism with an `Instrument` class:\n",
        "\n",
        "class Instrument:\n",
        "    def play(self):\n",
        "        print(\"Instrument plays\")\n",
        "\n",
        "class Guitar(Instrument):\n",
        "    def play(self):\n",
        "        print(\"Guitar strums\")\n",
        "\n",
        "class Piano(Instrument):\n",
        "    def play(self):\n",
        "        print(\"Piano plays\")\n",
        "\n",
        "instruments = [Guitar(), Piano()]\n",
        "for instrument in instruments:\n",
        "    instrument.play()"
      ],
      "metadata": {
        "colab": {
          "base_uri": "https://localhost:8080/"
        },
        "id": "CZQv4YpQ66aG",
        "outputId": "53762887-7bbf-4239-e049-a8b16c3ea82f"
      },
      "execution_count": null,
      "outputs": [
        {
          "output_type": "stream",
          "name": "stdout",
          "text": [
            "Guitar strums\n",
            "Piano plays\n"
          ]
        }
      ]
    },
    {
      "cell_type": "code",
      "source": [
        "#Ques.7. Create a class MathOperations with a class method add_numbers() to add two numbers and a static method subtract_numbers() to subtract two numbers.\n",
        "#Ans.7. 7. `MathOperations` class with class and static methods:\n",
        "\n",
        "class MathOperations:\n",
        "    @classmethod\n",
        "    def add_numbers(cls, a, b):\n",
        "        return a + b\n",
        "\n",
        "    @staticmethod\n",
        "    def subtract_numbers(a, b):\n",
        "        return a - b\n",
        "\n",
        "print(MathOperations.add_numbers(5, 3))  # Output: 8\n",
        "print(MathOperations.subtract_numbers(5, 3))  # Output: 2"
      ],
      "metadata": {
        "colab": {
          "base_uri": "https://localhost:8080/"
        },
        "id": "dVMqIjzE66Xf",
        "outputId": "9952488a-a676-4b6b-984e-f9c47093264a"
      },
      "execution_count": null,
      "outputs": [
        {
          "output_type": "stream",
          "name": "stdout",
          "text": [
            "8\n",
            "2\n"
          ]
        }
      ]
    },
    {
      "cell_type": "code",
      "source": [
        "#Ques.8. Implement a class Person with a class method to count the total number of persons created.\n",
        "#Ans.8. `Person` class with a count of instances:\n",
        "\n",
        "class Person:\n",
        "    count = 0\n",
        "\n",
        "    def __init__(self, name):\n",
        "        self.name = name\n",
        "        Person.count += 1\n",
        "\n",
        "p1 = Person(\"Suneep\")\n",
        "p2 = Person(\"Kuldeep\")\n",
        "print(Person.count)  # Output: 2"
      ],
      "metadata": {
        "colab": {
          "base_uri": "https://localhost:8080/"
        },
        "id": "Iv5p-LHG66Un",
        "outputId": "c7dccadc-5936-4c4f-fd23-6ba1f54a7bcc"
      },
      "execution_count": null,
      "outputs": [
        {
          "output_type": "stream",
          "name": "stdout",
          "text": [
            "2\n"
          ]
        }
      ]
    },
    {
      "cell_type": "code",
      "source": [
        "#Ques.9. Write a class Fraction with attributes numerator and denominator. Override the str method to display the fraction as \"numerator/denominator\"\n",
        "#Ans.9.`Fraction` class with overridden `__str__` method:\n",
        "\n",
        "class Fraction:\n",
        "    def __init__(self, numerator, denominator):\n",
        "        self.numerator = numerator\n",
        "        self.denominator = denominator\n",
        "\n",
        "    def __str__(self):\n",
        "        return f\"{self.numerator}/{self.denominator}\"\n",
        "\n",
        "fraction = Fraction(3, 4)\n",
        "print(fraction)  # Output: 3/4"
      ],
      "metadata": {
        "colab": {
          "base_uri": "https://localhost:8080/"
        },
        "id": "uNZoTB2t66R-",
        "outputId": "7c8bc4e7-9d6b-40e7-bc56-c558efe565e5"
      },
      "execution_count": null,
      "outputs": [
        {
          "output_type": "stream",
          "name": "stdout",
          "text": [
            "3/4\n"
          ]
        }
      ]
    },
    {
      "cell_type": "code",
      "source": [
        "#Ques.10. Demonstrate operator overloading by creating a class Vector and overriding the add method to add two vectors.\n",
        "#Ans.10.\n",
        "class Vector:\n",
        "    def __init__(self, x, y):\n",
        "        self.x = x\n",
        "        self.y = y\n",
        "\n",
        "    def __add__(self, other):\n",
        "        return Vector(self.x + other.x, self.y + other.y)\n",
        "\n",
        "    def __repr__(self):\n",
        "        return f\"Vector({self.x}, {self.y})\"\n",
        "\n",
        "v1 = Vector(2, 3)\n",
        "v2 = Vector(5, 7)\n",
        "v3 = v1 + v2\n",
        "print(v3)  # Output: Vector(7, 10)\n"
      ],
      "metadata": {
        "colab": {
          "base_uri": "https://localhost:8080/"
        },
        "id": "Cmgrgpvx66PG",
        "outputId": "d25a2f9f-e5a2-4edb-9b96-ccee3f7ef0de"
      },
      "execution_count": null,
      "outputs": [
        {
          "output_type": "stream",
          "name": "stdout",
          "text": [
            "Vector(7, 10)\n"
          ]
        }
      ]
    },
    {
      "cell_type": "code",
      "source": [
        "#Ques.11. Create a class Person with attributes name and age. Add a method greet() that prints \"Hello, my name is {name} and I am {age} years old.\"\n",
        "#Ans.11.\n",
        "class Person:\n",
        "    def __init__(self, name, age):\n",
        "        self.name = name\n",
        "        self.age = age\n",
        "\n",
        "    def greet(self):\n",
        "        print(f\"Hello, my name is {self.name} and I am {self.age} years old.\")\n",
        "\n",
        "person = Person(\"Suneep\", 26)\n",
        "person.greet()  # Output: Hello, my name is Suneep and I am 26 years old.\n"
      ],
      "metadata": {
        "colab": {
          "base_uri": "https://localhost:8080/"
        },
        "id": "rupGJnFx65lt",
        "outputId": "80d1d230-72d3-4171-d027-0028ecaa9332"
      },
      "execution_count": null,
      "outputs": [
        {
          "output_type": "stream",
          "name": "stdout",
          "text": [
            "Hello, my name is Suneep and I am 26 years old.\n"
          ]
        }
      ]
    },
    {
      "cell_type": "code",
      "source": [
        "#Ques.12. Implement a class Student with attributes name and grades. Create a method average_grade() to compute the average of the grades.\n",
        "#Ans.12.\n",
        "class Student:\n",
        "    def __init__(self, name, grades):\n",
        "        self.name = name\n",
        "        self.grades = grades\n",
        "\n",
        "    def average_grade(self):\n",
        "        return sum(self.grades) / len(self.grades)\n",
        "\n",
        "student = Student(\"Suneep\", [90, 80, 85, 95])\n",
        "print(student.average_grade())  # Output: 87.5\n"
      ],
      "metadata": {
        "colab": {
          "base_uri": "https://localhost:8080/"
        },
        "id": "79UXhEAW7GoN",
        "outputId": "ce373b3e-57f1-4ca3-e7e9-3e49b24dadce"
      },
      "execution_count": null,
      "outputs": [
        {
          "output_type": "stream",
          "name": "stdout",
          "text": [
            "87.5\n"
          ]
        }
      ]
    },
    {
      "cell_type": "code",
      "source": [
        "#Ques.13. Create a class Rectangle with methods set_dimensions() to set the dimensions and area() to calculate the area.\n",
        "#Ans.13.\n",
        "class Rectangle:\n",
        "    def __init__(self):\n",
        "        self.length = 0\n",
        "        self.width = 0\n",
        "\n",
        "    def set_dimensions(self, length, width):\n",
        "        self.length = length\n",
        "        self.width = width\n",
        "\n",
        "    def area(self):\n",
        "        return self.length * self.width\n",
        "\n",
        "rect = Rectangle()\n",
        "rect.set_dimensions(5, 3)\n",
        "print(rect.area())  # Output: 15"
      ],
      "metadata": {
        "colab": {
          "base_uri": "https://localhost:8080/"
        },
        "id": "shuZJR0b7GfO",
        "outputId": "f8ae99f7-a864-424a-eb58-1aa68e419486"
      },
      "execution_count": null,
      "outputs": [
        {
          "output_type": "stream",
          "name": "stdout",
          "text": [
            "15\n"
          ]
        }
      ]
    },
    {
      "cell_type": "code",
      "source": [
        "#Ques.14. Create a class Employee with a method calculate_salary() that computes the salary based on hours worked and hourly rate. Create a derived class Manager that adds a bonus to the salary.\n",
        "#Ans.14.\n",
        "class Employee:\n",
        "    def __init__(self, name, hourly_rate):\n",
        "        self.name = name\n",
        "        self.hourly_rate = hourly_rate\n",
        "\n",
        "    def calculate_salary(self, hours_worked):\n",
        "        return self.hourly_rate * hours_worked\n",
        "\n",
        "class Manager(Employee):\n",
        "    def __init__(self, name, hourly_rate, bonus):\n",
        "        super().__init__(name, hourly_rate)\n",
        "        self.bonus = bonus\n",
        "\n",
        "    def calculate_salary(self, hours_worked):\n",
        "        base_salary = super().calculate_salary(hours_worked)\n",
        "        return base_salary + self.bonus\n",
        "\n",
        "emp = Employee(\"Suneep\", 20)\n",
        "mgr = Manager(\"Kuldeep\", 30, 500)\n",
        "print(emp.calculate_salary(40))  # Output: 800\n",
        "print(mgr.calculate_salary(40))  # Output: 1700\n"
      ],
      "metadata": {
        "colab": {
          "base_uri": "https://localhost:8080/"
        },
        "id": "StViqpzu7GYy",
        "outputId": "bb7f4d6e-dd60-482b-f637-900a75897b04"
      },
      "execution_count": null,
      "outputs": [
        {
          "output_type": "stream",
          "name": "stdout",
          "text": [
            "800\n",
            "1700\n"
          ]
        }
      ]
    },
    {
      "cell_type": "code",
      "source": [
        "#Ques.15. Create a class Product with attributes name, price, and quantity. Implement a method total_price() that calculates the total price of the product.\n",
        "#Ans.15.\n",
        "class Product:\n",
        "    def __init__(self, name, price, quantity):\n",
        "        self.name = name\n",
        "        self.price = price\n",
        "        self.quantity = quantity\n",
        "\n",
        "    def total_price(self):\n",
        "        return self.price * self.quantity\n",
        "\n",
        "product = Product(\"Laptop\", 1000, 3)\n",
        "print(product.total_price())  # Output: 3000"
      ],
      "metadata": {
        "colab": {
          "base_uri": "https://localhost:8080/"
        },
        "id": "shrpPq657GWF",
        "outputId": "657836ef-f547-46da-f7b7-466af4868d2b"
      },
      "execution_count": null,
      "outputs": [
        {
          "output_type": "stream",
          "name": "stdout",
          "text": [
            "3000\n"
          ]
        }
      ]
    },
    {
      "cell_type": "code",
      "source": [
        "#Ques.16. Create a class Animal with an abstract method sound(). Create two derived classes Cow and Sheep that implement the sound() method.\n",
        "#Ans.16.\n",
        "from abc import ABC, abstractmethod\n",
        "\n",
        "class Animal(ABC):\n",
        "    @abstractmethod\n",
        "    def sound(self):\n",
        "        pass\n",
        "\n",
        "class Cow(Animal):\n",
        "    def sound(self):\n",
        "        return \"Moo\"\n",
        "\n",
        "class Sheep(Animal):\n",
        "    def sound(self):\n",
        "        return \"Baa\"\n",
        "\n",
        "cow = Cow()\n",
        "sheep = Sheep()\n",
        "print(cow.sound())  # Output: Moo\n",
        "print(sheep.sound())  # Output: Baa"
      ],
      "metadata": {
        "colab": {
          "base_uri": "https://localhost:8080/"
        },
        "id": "-3lhklM47GTn",
        "outputId": "3e8daf06-6d94-475d-c179-993cf09b67b1"
      },
      "execution_count": null,
      "outputs": [
        {
          "output_type": "stream",
          "name": "stdout",
          "text": [
            "Moo\n",
            "Baa\n"
          ]
        }
      ]
    },
    {
      "cell_type": "code",
      "source": [
        "#Ques.17. Create a class Book with attributes title, author, and year_published. Add a method get_book_info() that returns a formatted string with the book's details.\n",
        "#Ans.17.\n",
        "class Book:\n",
        "    def __init__(self, title, author, year_published):\n",
        "        self.title = title\n",
        "        self.author = author\n",
        "        self.year_published = year_published\n",
        "\n",
        "    def get_book_info(self):\n",
        "        return f\"Title: {self.title}, Author: {self.author}, Year Published: {self.year_published}\"\n",
        "\n",
        "book = Book(\"Rich Dad Poor Dad\", \"Robert T. Kiyosaki and Sharon Lechter.\", 1997)\n",
        "print(book.get_book_info())  # Output: Title: Rich Dad Poor Dad, Author: Robert T. Kiyosaki and Sharon Lechter., Year Published: 1997\n"
      ],
      "metadata": {
        "colab": {
          "base_uri": "https://localhost:8080/"
        },
        "id": "u-9p2Fak7GQ8",
        "outputId": "a5219c00-0f8e-4663-c72e-13bee3407c53"
      },
      "execution_count": null,
      "outputs": [
        {
          "output_type": "stream",
          "name": "stdout",
          "text": [
            "Title: Rich Dad Poor Dad, Author: Robert T. Kiyosaki and Sharon Lechter., Year Published: 1997\n"
          ]
        }
      ]
    },
    {
      "cell_type": "code",
      "source": [
        "#Ques.18. Create a class House with attributes address and price. Create a derived class Mansion that adds an attribute number_of_rooms.\n",
        "#Ans.18.\n",
        "class House:\n",
        "    def __init__(self, address, price):\n",
        "        self.address = address\n",
        "        self.price = price\n",
        "\n",
        "class Mansion(House):\n",
        "    def __init__(self, address, price, number_of_rooms):\n",
        "        super().__init__(address, price)\n",
        "        self.number_of_rooms = number_of_rooms\n",
        "\n",
        "mansion = Mansion(\"Mannat\", 1000000, 10)\n",
        "print(f\"Address: {mansion.address}, Price: {mansion.price}, Number of Rooms: {mansion.number_of_rooms}\")\n",
        "# Output: Address: Mannat, Price: 1000000, Number of Rooms: 10\n"
      ],
      "metadata": {
        "colab": {
          "base_uri": "https://localhost:8080/"
        },
        "id": "pk5npv9m7GOV",
        "outputId": "15c3bf2e-c56f-469f-b25b-2b74eb5ba68e"
      },
      "execution_count": null,
      "outputs": [
        {
          "output_type": "stream",
          "name": "stdout",
          "text": [
            "Address: Mannat, Price: 1000000, Number of Rooms: 10\n"
          ]
        }
      ]
    }
  ]
}